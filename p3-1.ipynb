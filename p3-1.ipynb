{
 "cells": [
  {
   "cell_type": "markdown",
   "id": "22788c9e-bb98-44a1-a707-04e189628340",
   "metadata": {},
   "source": [
    "#［例题3-1] \n",
    "假设我们试图对某一社区中个人的受教育程度(X=edu)对年平均收入(Y = earn)的影响进行研究。我们从该社区中随机地收集到11名个体的受教育年限（单位：年）和年平均收入（单位：千元）数据（见表3-4)。"
   ]
  },
  {
   "cell_type": "code",
   "execution_count": 2,
   "id": "0bcd0f56-e901-46ab-8133-b200cc999b09",
   "metadata": {},
   "outputs": [
    {
     "data": {
      "text/html": [
       "<div>\n",
       "<style scoped>\n",
       "    .dataframe tbody tr th:only-of-type {\n",
       "        vertical-align: middle;\n",
       "    }\n",
       "\n",
       "    .dataframe tbody tr th {\n",
       "        vertical-align: top;\n",
       "    }\n",
       "\n",
       "    .dataframe thead th {\n",
       "        text-align: right;\n",
       "    }\n",
       "</style>\n",
       "<table border=\"1\" class=\"dataframe\">\n",
       "  <thead>\n",
       "    <tr style=\"text-align: right;\">\n",
       "      <th></th>\n",
       "      <th>edu</th>\n",
       "      <th>earn</th>\n",
       "    </tr>\n",
       "  </thead>\n",
       "  <tbody>\n",
       "    <tr>\n",
       "      <th>0</th>\n",
       "      <td>6</td>\n",
       "      <td>5</td>\n",
       "    </tr>\n",
       "    <tr>\n",
       "      <th>1</th>\n",
       "      <td>10</td>\n",
       "      <td>7</td>\n",
       "    </tr>\n",
       "    <tr>\n",
       "      <th>2</th>\n",
       "      <td>9</td>\n",
       "      <td>6</td>\n",
       "    </tr>\n",
       "    <tr>\n",
       "      <th>3</th>\n",
       "      <td>9</td>\n",
       "      <td>6</td>\n",
       "    </tr>\n",
       "    <tr>\n",
       "      <th>4</th>\n",
       "      <td>16</td>\n",
       "      <td>9</td>\n",
       "    </tr>\n",
       "  </tbody>\n",
       "</table>\n",
       "</div>"
      ],
      "text/plain": [
       "   edu  earn\n",
       "0    6     5\n",
       "1   10     7\n",
       "2    9     6\n",
       "3    9     6\n",
       "4   16     9"
      ]
     },
     "execution_count": 2,
     "metadata": {},
     "output_type": "execute_result"
    }
   ],
   "source": [
    "import numpy as np\n",
    "import pandas as pd\n",
    "import matplotlib.pyplot as plt\n",
    "\n",
    "X=np.array([6,10,9,9,16,12,16,5,10,12,8])\n",
    "Y=np.array([5,7,6,6,9,8,13,5,10,12,10])\n",
    "df=pd.DataFrame([X,Y]).T\n",
    "df.columns=['edu','earn']\n",
    "df.head()"
   ]
  },
  {
   "cell_type": "markdown",
   "id": "c313f3d1-d804-491c-ab53-9deb947ad336",
   "metadata": {},
   "source": [
    "利用该数据：\n",
    "（1）判断最佳拟合直线方程；"
   ]
  },
  {
   "cell_type": "code",
   "execution_count": 19,
   "id": "e2d51e23-640d-4cda-9727-2f5eb3326f15",
   "metadata": {},
   "outputs": [
    {
     "name": "stdout",
     "output_type": "stream",
     "text": [
      "coefficient of determination: 0.5123905552536918\n"
     ]
    }
   ],
   "source": [
    "from sklearn.linear_model import LinearRegression\n",
    "model=LinearRegression().fit(edu.reshape((-1,1)),earn)\n",
    "r_sq = model.score(edu.reshape((-1,1)),earn)\n",
    "print('coefficient of determination:', r_sq)"
   ]
  },
  {
   "cell_type": "code",
   "execution_count": 7,
   "id": "126af529-9eac-45bb-9eb4-f9e2e086ccb0",
   "metadata": {},
   "outputs": [
    {
     "name": "stdout",
     "output_type": "stream",
     "text": [
      "                            OLS Regression Results                            \n",
      "==============================================================================\n",
      "Dep. Variable:                      y   R-squared:                       0.512\n",
      "Model:                            OLS   Adj. R-squared:                  0.458\n",
      "Method:                 Least Squares   F-statistic:                     9.457\n",
      "Date:                Sun, 14 Nov 2021   Prob (F-statistic):             0.0132\n",
      "Time:                        12:27:31   Log-Likelihood:                -22.302\n",
      "No. Observations:                  11   AIC:                             48.60\n",
      "Df Residuals:                       9   BIC:                             49.40\n",
      "Df Model:                           1                                         \n",
      "Covariance Type:            nonrobust                                         \n",
      "==============================================================================\n",
      "                 coef    std err          t      P>|t|      [0.025      0.975]\n",
      "------------------------------------------------------------------------------\n",
      "const          2.5591      1.956      1.308      0.223      -1.866       6.985\n",
      "x1             0.5562      0.181      3.075      0.013       0.147       0.965\n",
      "==============================================================================\n",
      "Omnibus:                        2.468   Durbin-Watson:                   0.526\n",
      "Prob(Omnibus):                  0.291   Jarque-Bera (JB):                1.202\n",
      "Skew:                           0.464   Prob(JB):                        0.548\n",
      "Kurtosis:                       1.673   Cond. No.                         34.8\n",
      "==============================================================================\n",
      "\n",
      "Notes:\n",
      "[1] Standard Errors assume that the covariance matrix of the errors is correctly specified.\n"
     ]
    },
    {
     "name": "stderr",
     "output_type": "stream",
     "text": [
      "d:\\python3.9\\lib\\site-packages\\scipy\\stats\\stats.py:1603: UserWarning: kurtosistest only valid for n>=20 ... continuing anyway, n=11\n",
      "  warnings.warn(\"kurtosistest only valid for n>=20 ... continuing \"\n",
      "C:\\Users\\ASUS\\AppData\\Local\\Temp/ipykernel_26312/419778756.py:6: RuntimeWarning: divide by zero encountered in true_divide\n",
      "  slope=round((Y_predicts[-1]-Y_predicts[0])/(X[-1]-X[0]),2)\n"
     ]
    },
    {
     "ename": "TypeError",
     "evalue": "type numpy.ndarray doesn't define __round__ method",
     "output_type": "error",
     "traceback": [
      "\u001b[1;31m---------------------------------------------------------------------------\u001b[0m",
      "\u001b[1;31mTypeError\u001b[0m                                 Traceback (most recent call last)",
      "\u001b[1;32m~\\AppData\\Local\\Temp/ipykernel_26312/419778756.py\u001b[0m in \u001b[0;36m<module>\u001b[1;34m\u001b[0m\n\u001b[0;32m      4\u001b[0m \u001b[0mprint\u001b[0m\u001b[1;33m(\u001b[0m\u001b[0mmodel\u001b[0m\u001b[1;33m.\u001b[0m\u001b[0msummary\u001b[0m\u001b[1;33m(\u001b[0m\u001b[1;33m)\u001b[0m\u001b[1;33m)\u001b[0m\u001b[1;33m\u001b[0m\u001b[1;33m\u001b[0m\u001b[0m\n\u001b[0;32m      5\u001b[0m \u001b[0mY_predicts\u001b[0m\u001b[1;33m=\u001b[0m\u001b[0mmodel\u001b[0m\u001b[1;33m.\u001b[0m\u001b[0mpredict\u001b[0m\u001b[1;33m(\u001b[0m\u001b[1;33m)\u001b[0m\u001b[1;33m\u001b[0m\u001b[1;33m\u001b[0m\u001b[0m\n\u001b[1;32m----> 6\u001b[1;33m \u001b[0mslope\u001b[0m\u001b[1;33m=\u001b[0m\u001b[0mround\u001b[0m\u001b[1;33m(\u001b[0m\u001b[1;33m(\u001b[0m\u001b[0mY_predicts\u001b[0m\u001b[1;33m[\u001b[0m\u001b[1;33m-\u001b[0m\u001b[1;36m1\u001b[0m\u001b[1;33m]\u001b[0m\u001b[1;33m-\u001b[0m\u001b[0mY_predicts\u001b[0m\u001b[1;33m[\u001b[0m\u001b[1;36m0\u001b[0m\u001b[1;33m]\u001b[0m\u001b[1;33m)\u001b[0m\u001b[1;33m/\u001b[0m\u001b[1;33m(\u001b[0m\u001b[0mX\u001b[0m\u001b[1;33m[\u001b[0m\u001b[1;33m-\u001b[0m\u001b[1;36m1\u001b[0m\u001b[1;33m]\u001b[0m\u001b[1;33m-\u001b[0m\u001b[0mX\u001b[0m\u001b[1;33m[\u001b[0m\u001b[1;36m0\u001b[0m\u001b[1;33m]\u001b[0m\u001b[1;33m)\u001b[0m\u001b[1;33m,\u001b[0m\u001b[1;36m2\u001b[0m\u001b[1;33m)\u001b[0m\u001b[1;33m\u001b[0m\u001b[1;33m\u001b[0m\u001b[0m\n\u001b[0m\u001b[0;32m      7\u001b[0m \u001b[0mprint\u001b[0m\u001b[1;33m(\u001b[0m\u001b[1;34m'y={}x+{}'\u001b[0m\u001b[1;33m.\u001b[0m\u001b[0mformat\u001b[0m\u001b[1;33m(\u001b[0m\u001b[0mslope\u001b[0m\u001b[1;33m,\u001b[0m\u001b[0mY_predicts\u001b[0m\u001b[1;33m[\u001b[0m\u001b[1;36m0\u001b[0m\u001b[1;33m]\u001b[0m\u001b[1;33m)\u001b[0m\u001b[1;33m)\u001b[0m\u001b[1;33m\u001b[0m\u001b[1;33m\u001b[0m\u001b[0m\n",
      "\u001b[1;31mTypeError\u001b[0m: type numpy.ndarray doesn't define __round__ method"
     ]
    }
   ],
   "source": [
    "import statsmodels.api as sm\n",
    "X=sm.add_constant(X)\n",
    "model=sm.OLS(Y,X).fit()\n",
    "print(model.summary())\n",
    "Y_predicts=model.predict()\n",
    "slope=(Y_predicts[-1]-Y_predicts[0])/(X[-1]-X[0])\n",
    "print('y={}x+{}'.format(slope,Y_predicts[0]))"
   ]
  },
  {
   "cell_type": "markdown",
   "id": "8b881166-299d-4a81-bcb2-d16f286b128d",
   "metadata": {},
   "source": [
    "(2)\t计算直线的拟合优度 ；\n"
   ]
  },
  {
   "cell_type": "code",
   "execution_count": null,
   "id": "d086ddf2-7221-409f-91b1-52d3cbe0647a",
   "metadata": {},
   "outputs": [],
   "source": []
  },
  {
   "cell_type": "markdown",
   "id": "c0fd7c48-2721-431c-948d-222713c4d694",
   "metadata": {},
   "source": [
    "(3)检验数据是否支持年平均收入受到个人受教育程度的影响（显著度a =0.05)"
   ]
  },
  {
   "cell_type": "code",
   "execution_count": null,
   "id": "acd64d07-ddde-4190-b08c-ebe6ec2caa74",
   "metadata": {},
   "outputs": [],
   "source": []
  },
  {
   "cell_type": "markdown",
   "id": "f1e659f4-db18-4a7d-bb1f-03e0cc205dfa",
   "metadata": {},
   "source": [
    "（4）在95％置信水平下，估计受教育年限为12年者的年平均收入；"
   ]
  },
  {
   "cell_type": "code",
   "execution_count": null,
   "id": "68250c6f-9c14-4d12-8796-407d564f6fca",
   "metadata": {},
   "outputs": [],
   "source": []
  },
  {
   "cell_type": "markdown",
   "id": "f917afa7-649e-4edd-98c8-8568b59afd4e",
   "metadata": {},
   "source": [
    "（5）预测当edu =20时，某个人的年平均收入。"
   ]
  },
  {
   "cell_type": "code",
   "execution_count": null,
   "id": "af32dc9b-98a3-4612-8732-ff4aa63ca6a0",
   "metadata": {},
   "outputs": [],
   "source": []
  }
 ],
 "metadata": {
  "kernelspec": {
   "display_name": "Python 3 (ipykernel)",
   "language": "python",
   "name": "python3"
  },
  "language_info": {
   "codemirror_mode": {
    "name": "ipython",
    "version": 3
   },
   "file_extension": ".py",
   "mimetype": "text/x-python",
   "name": "python",
   "nbconvert_exporter": "python",
   "pygments_lexer": "ipython3",
   "version": "3.9.0"
  }
 },
 "nbformat": 4,
 "nbformat_minor": 5
}
